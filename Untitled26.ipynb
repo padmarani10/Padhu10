{
  "nbformat": 4,
  "nbformat_minor": 0,
  "metadata": {
    "colab": {
      "provenance": [],
      "authorship_tag": "ABX9TyMJHbvcw1EsLkfwrvj8JcZp",
      "include_colab_link": true
    },
    "kernelspec": {
      "name": "python3",
      "display_name": "Python 3"
    },
    "language_info": {
      "name": "python"
    }
  },
  "cells": [
    {
      "cell_type": "markdown",
      "metadata": {
        "id": "view-in-github",
        "colab_type": "text"
      },
      "source": [
        "<a href=\"https://colab.research.google.com/github/padmarani10/Padhu10/blob/main/Untitled26.ipynb\" target=\"_parent\"><img src=\"https://colab.research.google.com/assets/colab-badge.svg\" alt=\"Open In Colab\"/></a>"
      ]
    },
    {
      "cell_type": "code",
      "execution_count": 10,
      "metadata": {
        "id": "Cy7nLAmDkl9F"
      },
      "outputs": [],
      "source": [
        "import requests\n",
        "\n"
      ]
    },
    {
      "cell_type": "code",
      "source": [
        "url='https://www.flipkart.com/q/airpods'\n",
        "response=requests.get(url)"
      ],
      "metadata": {
        "id": "H4IalpZhlNUu"
      },
      "execution_count": null,
      "outputs": []
    },
    {
      "cell_type": "code",
      "source": [
        "from bs4 import BeautifulSoup"
      ],
      "metadata": {
        "id": "WgJjKRi6nQZj"
      },
      "execution_count": 6,
      "outputs": []
    },
    {
      "cell_type": "code",
      "source": [
        "soup=BeautifulSoup(response.content 'html.parser')"
      ],
      "metadata": {
        "colab": {
          "base_uri": "https://localhost:8080/",
          "height": 106
        },
        "id": "Ri0ApWHFl8wb",
        "outputId": "891af81d-b3fd-47b2-c4bc-3d27e3c1fe7a"
      },
      "execution_count": 9,
      "outputs": [
        {
          "output_type": "error",
          "ename": "SyntaxError",
          "evalue": "invalid syntax. Perhaps you forgot a comma? (<ipython-input-9-6838be88945e>, line 1)",
          "traceback": [
            "\u001b[0;36m  File \u001b[0;32m\"<ipython-input-9-6838be88945e>\"\u001b[0;36m, line \u001b[0;32m1\u001b[0m\n\u001b[0;31m    soup=BeautifulSoup(response.content 'html.parser')\u001b[0m\n\u001b[0m                       ^\u001b[0m\n\u001b[0;31mSyntaxError\u001b[0m\u001b[0;31m:\u001b[0m invalid syntax. Perhaps you forgot a comma?\n"
          ]
        }
      ]
    },
    {
      "cell_type": "code",
      "source": [
        "\n",
        "prod_title=[title for title in soup.find_all('a',{'class','s1Q9rs'})]\n",
        "prod_pricing=[price for price in soup.find_all('div',{'class','_8VNy32'})]\n",
        "prod_rating=[rating for rating in soup.find_all('span',{'class','_3LWZIK'})]"
      ],
      "metadata": {
        "id": "82AXov9EmJXO"
      },
      "execution_count": null,
      "outputs": []
    },
    {
      "cell_type": "code",
      "source": [
        "import csv"
      ],
      "metadata": {
        "id": "7Au9KR-dmQhJ"
      },
      "execution_count": null,
      "outputs": []
    },
    {
      "cell_type": "code",
      "source": [
        "with open('dataset.csv','w',newline='',encoding='utf-8') as file:\n",
        "  writer=csv.writer()\n",
        "  writer.writerow('prod_title','prod_rating','prod_price')\n",
        "  for i in range(len(prod_title)):\n",
        "     writer.writerow(prod_title[i],prod_pricing[i],prod_rating[i])"
      ],
      "metadata": {
        "id": "JqHoAmkymVBz"
      },
      "execution_count": null,
      "outputs": []
    }
  ]
}